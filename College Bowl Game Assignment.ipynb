{
 "cells": [
  {
   "cell_type": "markdown",
   "metadata": {},
   "source": [
    "##Scheduling College Bowl Games"
   ]
  },
  {
   "cell_type": "markdown",
   "metadata": {},
   "source": [
    "I recently read an article that mentioned that some schools, who had a 6-6 record were irritated at the inclusion of the University of Nebraska, a team with a losing 5-7 record in the Faster Farms Bowl.  Though the Huskers ended up beating UCLA, the drama made me wonder how the scheduling is done and whether I could prototype something to automate scheduling.\n",
    "\n",
    "First, my infrastructure consists of Anaconda Python, Coopr.pyomo and Gurobi.  Interestingly, those with an academic email can get a free version of gurobi. Not a bad software setup considering it is all open source or free! It's worth noting that I ran into some version issues with pyomo, which I solved by reverting back to Python 2.7.  Otherwise, everything was pretty straight forward to install.\n",
    "\n",
    "Back to the model. I modeled this as a bipartite matching problem where we have two sets, Bowl Games and Schools.  In fact, this problem is almost the exact same as the work I did in 2011, where we scheduled University Suppliers to campus Supplier Shows.  In this case, the event is a bowl game and the suppliers are Universities.  I then use a binary decicion to indicate whether school $i$ is invited to bowl game $j$.  With some constraints to make a reasonable schedule and with a thoughtless (i.e. I didnt think very much about this) objective function, I optimize and generate the schedule. \n",
    "\n",
    "The mathmatical model for this model is as follows:\n",
    "\n",
    "###Sets\n",
    "$I$ = set of schools <br>\n",
    "$J$ = set of bowl games\n",
    "\n",
    "###Parameters\n",
    "$t_{ij}$ = travel miles between school $i$ and bowl game $j$,  $\\ {\\forall }i\\ {\\in}\\ I, \\ {\\forall}j\\ {\\in}\\ J$<br>\n",
    "$a_i$= Academic Progress Statistic for school $i$, $\\ {\\forall}i\\ {\\in}\\ I$<br>\n",
    "$s_i$= Strength of Schedule for school $i$, $\\ {\\forall}i\\ {\\in}\\ I$<br>\n",
    "\n",
    "###Variables\n",
    "$x = \\begin{cases}\n",
    "  0, & \\text{if  School $i$ is invited to bowl game $j$}, \\\\\n",
    "  1, & \\text{otherwise}.\n",
    "\\end{cases}$\n",
    "\n",
    "###Objective\n",
    "$Max \\sum\\limits_{i\\ {\\in}\\ I} \\sum\\limits_{j\\ {\\in}\\ J}x_{ij}*a_i + x_{ij}*s_i - x_{ij}*t_{ij}$\n",
    "\n",
    "###Constraints\n",
    "$\\sum\\limits_{i\\ {\\in}\\ I} x_{ij} = 2,\\ {\\forall}i\\ {\\in}\\ I$,  Each bowl game must have exactly 2 teams<br><br>\n",
    "$\\sum\\limits_{j\\ {\\in}\\ J} x_{ij} <= 1,\\ {\\forall}j\\ {\\in}\\ J$, Each team is scheduled to a maximum of 1 bowl game\n"
   ]
  },
  {
   "cell_type": "code",
   "execution_count": 1,
   "metadata": {
    "collapsed": false
   },
   "outputs": [
    {
     "name": "stderr",
     "output_type": "stream",
     "text": [
      "Error loading 'pyutilib.component' entry points: 'type object 'PluginGlobals' has no attribute 'add_env''\n"
     ]
    }
   ],
   "source": [
    "import pandas as pd\n",
    "from coopr.pyomo import *\n",
    "from coopr import opt\n",
    "from coopr.pyomo import value\n",
    "import random"
   ]
  },
  {
   "cell_type": "markdown",
   "metadata": {},
   "source": [
    "###Data Tables\n",
    "\n",
    "This is the section where we create the data for the model.  It isn't a leap to see that we could easily scrape the data off the web, rather than manually manipulating dataframes.  For examples of how to do scrape data, check out [The Berkeley Hacker Within WebScraping Tutorial](https://github.com/thehackerwithin/berkeley/blob/master/scraping/webscraping_tutorial.ipynb).  Unless the NCAA asks me to do something more legitimate, I am ok just prototyping and manually pulling some data. "
   ]
  },
  {
   "cell_type": "code",
   "execution_count": 2,
   "metadata": {
    "collapsed": false,
    "scrolled": true
   },
   "outputs": [
    {
     "data": {
      "text/html": [
       "<div>\n",
       "<table border=\"1\" class=\"dataframe\">\n",
       "  <thead>\n",
       "    <tr style=\"text-align: right;\">\n",
       "      <th></th>\n",
       "      <th>Longitude</th>\n",
       "      <th>Latitude</th>\n",
       "    </tr>\n",
       "  </thead>\n",
       "  <tbody>\n",
       "    <tr>\n",
       "      <th>Arizona Bowl</th>\n",
       "      <td>32.2217</td>\n",
       "      <td>110.9264</td>\n",
       "    </tr>\n",
       "    <tr>\n",
       "      <th>Armed Forces Bowl</th>\n",
       "      <td>32.7574</td>\n",
       "      <td>97.3332</td>\n",
       "    </tr>\n",
       "  </tbody>\n",
       "</table>\n",
       "</div>"
      ],
      "text/plain": [
       "                   Longitude  Latitude\n",
       "Arizona Bowl         32.2217  110.9264\n",
       "Armed Forces Bowl    32.7574   97.3332"
      ]
     },
     "execution_count": 2,
     "metadata": {},
     "output_type": "execute_result"
    }
   ],
   "source": [
    "BowlGamesIndex = ['Longitude','Latitude']\n",
    "BowlGames = pd.DataFrame({'Armed Forces Bowl': [32.7574,97.3332], \n",
    "                          'Arizona Bowl' : [32.2217, 110.9264]\n",
    "                         }, index=BowlGamesIndex).transpose()\n",
    "\n",
    "BowlGames"
   ]
  },
  {
   "cell_type": "code",
   "execution_count": 3,
   "metadata": {
    "collapsed": false
   },
   "outputs": [
    {
     "data": {
      "text/html": [
       "<div>\n",
       "<table border=\"1\" class=\"dataframe\">\n",
       "  <thead>\n",
       "    <tr style=\"text-align: right;\">\n",
       "      <th></th>\n",
       "      <th>AcademicRank</th>\n",
       "      <th>StrengthOfSchedule</th>\n",
       "      <th>Longitude</th>\n",
       "      <th>Latitude</th>\n",
       "      <th>Wins</th>\n",
       "    </tr>\n",
       "  </thead>\n",
       "  <tbody>\n",
       "    <tr>\n",
       "      <th>Arizona State</th>\n",
       "      <td>949</td>\n",
       "      <td>5.5</td>\n",
       "      <td>33.4172</td>\n",
       "      <td>111.9365</td>\n",
       "      <td>6</td>\n",
       "    </tr>\n",
       "    <tr>\n",
       "      <th>California</th>\n",
       "      <td>941</td>\n",
       "      <td>7.8</td>\n",
       "      <td>37.8700</td>\n",
       "      <td>122.2590</td>\n",
       "      <td>8</td>\n",
       "    </tr>\n",
       "    <tr>\n",
       "      <th>Colorado</th>\n",
       "      <td>957</td>\n",
       "      <td>-0.4</td>\n",
       "      <td>40.0067</td>\n",
       "      <td>105.2672</td>\n",
       "      <td>4</td>\n",
       "    </tr>\n",
       "    <tr>\n",
       "      <th>Nevada</th>\n",
       "      <td>943</td>\n",
       "      <td>6.7</td>\n",
       "      <td>47.6550</td>\n",
       "      <td>122.3080</td>\n",
       "      <td>6</td>\n",
       "    </tr>\n",
       "    <tr>\n",
       "      <th>Stanford</th>\n",
       "      <td>987</td>\n",
       "      <td>7.8</td>\n",
       "      <td>37.4300</td>\n",
       "      <td>122.1700</td>\n",
       "      <td>11</td>\n",
       "    </tr>\n",
       "    <tr>\n",
       "      <th>UCLA</th>\n",
       "      <td>975</td>\n",
       "      <td>5.7</td>\n",
       "      <td>34.0722</td>\n",
       "      <td>118.4441</td>\n",
       "      <td>9</td>\n",
       "    </tr>\n",
       "  </tbody>\n",
       "</table>\n",
       "</div>"
      ],
      "text/plain": [
       "               AcademicRank  StrengthOfSchedule  Longitude  Latitude  Wins\n",
       "Arizona State           949                 5.5    33.4172  111.9365     6\n",
       "California              941                 7.8    37.8700  122.2590     8\n",
       "Colorado                957                -0.4    40.0067  105.2672     4\n",
       "Nevada                  943                 6.7    47.6550  122.3080     6\n",
       "Stanford                987                 7.8    37.4300  122.1700    11\n",
       "UCLA                    975                 5.7    34.0722  118.4441     9"
      ]
     },
     "execution_count": 3,
     "metadata": {},
     "output_type": "execute_result"
    }
   ],
   "source": [
    "SchoolsIndex = ['AcademicRank', 'StrengthOfSchedule', 'Longitude', 'Latitude', 'Wins']\n",
    "Schools = pd.DataFrame({'California': [941, 7.8,37.8700,122.2590,8],\n",
    "                        'Nevada': [943, 6.7,47.6550, 122.3080,6],\n",
    "                        'UCLA': [975, 5.7,34.0722, 118.4441,9],\n",
    "                        'Arizona State':[949,5.5,33.4172, 111.9365,6],\n",
    "                        'Colorado': [957,-0.4,40.0067, 105.2672,4],\n",
    "                        'Stanford': [987,7.8,37.4300, 122.1700,11]\n",
    "                        }, index=SchoolsIndex).transpose()\n",
    "\n",
    "Schools.AcademicRank = Schools.AcademicRank.astype(float)\n",
    "Schools.StrengthOfSchedule = Schools.StrengthOfSchedule.astype(float)\n",
    "Schools"
   ]
  },
  {
   "cell_type": "markdown",
   "metadata": {},
   "source": [
    "###PreProcess the inputs\n",
    "There are some results that we wouldn't want to see.  Rather than constraining the model, we can just as easily modify the inputs to preclude assignment.  Doing it in preprocessing is 1) easier because I am better at Pandas than Pyomo and 2) it reduces the size and complexity of the model.  "
   ]
  },
  {
   "cell_type": "code",
   "execution_count": 4,
   "metadata": {
    "collapsed": false
   },
   "outputs": [
    {
     "name": "stdout",
     "output_type": "stream",
     "text": [
      "          AcademicRank  StrengthOfSchedule  Longitude  Latitude  Wins\n",
      "Colorado           957                -0.4    40.0067  105.2672     4\n"
     ]
    }
   ],
   "source": [
    "#Print the schools who will be excluded\n",
    "print(Schools[Schools['Wins'] < 6])\n",
    "\n",
    "#Remove those schools who dont have 6 or more wins\n",
    "Schools = Schools[Schools['Wins'] >= 6]"
   ]
  },
  {
   "cell_type": "markdown",
   "metadata": {},
   "source": [
    "###Creating the distance parameter\n",
    "My friend Ramsey tells me that Universities have to pay for their own trips to their bowl game.  I would then assume that the further you travel the further you are from your fan base and thus would have lower interest in attending the game.  For example, imagine if San Jose State University had to travel to Anchorage Alaska for a bowl game.  I cant imagine there would be the interest to justify the trip. \n",
    "\n",
    "Based on this assumption, I created a parameter that measures the approximate distance each school is from each game. While I assume there are several ways to calculate distance, I used the first code I happened upon from StackOverflow.\n",
    "\n",
    "Ultimately, this metric is all about demand for the game in specific markets.  Fréchette et al. 2007 use the Neilson TV ratings, which is better. It doesnt seem to difficult to imagine using web traffic (e.g. Google Searches) or Neilson data or any number of other sources to gather insight into where college teams have strong fan bases.  Thus allowing the creation of a schedule which meets the highest level of demand and fills up stadiums.   "
   ]
  },
  {
   "cell_type": "code",
   "execution_count": 5,
   "metadata": {
    "collapsed": false
   },
   "outputs": [
    {
     "data": {
      "text/plain": [
       "{('Arizona State', 'Arizona Bowl'): 122.28850561362388,\n",
       " ('Arizona State', 'Armed Forces Bowl'): 1622.8732094381455,\n",
       " ('California', 'Arizona Bowl'): 1288.982469028836,\n",
       " ('California', 'Armed Forces Bowl'): 2773.9743482000076,\n",
       " ('Nevada', 'Arizona Bowl'): 1470.411706196987,\n",
       " ('Nevada', 'Armed Forces Bowl'): 2809.7074808120256,\n",
       " ('Stanford', 'Arizona Bowl'): 1274.8307187822527,\n",
       " ('Stanford', 'Armed Forces Bowl'): 2763.413967317055,\n",
       " ('UCLA', 'Arizona Bowl'): 839.7117970568663,\n",
       " ('UCLA', 'Armed Forces Bowl'): 2346.2340941597877}"
      ]
     },
     "execution_count": 5,
     "metadata": {},
     "output_type": "execute_result"
    }
   ],
   "source": [
    "from math import radians, cos, sin, asin, sqrt\n",
    "def haversine(lon1, lat1, lon2, lat2):\n",
    "    \"\"\"\n",
    "    Calculate the great circle distance between two points \n",
    "    on the earth (specified in decimal degrees)\n",
    "    \"\"\"\n",
    "    # convert decimal degrees to radians \n",
    "    lon1, lat1, lon2, lat2 = map(radians, [lon1, lat1, lon2, lat2])\n",
    "    # haversine formula \n",
    "    dlon = lon2 - lon1 \n",
    "    dlat = lat2 - lat1 \n",
    "    a = sin(dlat/2)**2 + cos(lat1) * cos(lat2) * sin(dlon/2)**2\n",
    "    c = 2 * asin(sqrt(a)) \n",
    "    km = 6367 * c\n",
    "    return km\n",
    "\n",
    "a = {}\n",
    "#Loop through all the bowl games and teams and calculate the travel distance in KM \n",
    "for i,j in [(i,j) for i in Schools.index for j in BowlGames.index]:\n",
    "    #run the haversine function\n",
    "    distance = haversine(Schools.Longitude[i], Schools.Latitude[i], \n",
    "                         BowlGames.Longitude[j], BowlGames.Latitude[j])\n",
    "   \n",
    "    a[i,j] =  distance\n",
    "\n",
    "a"
   ]
  },
  {
   "cell_type": "markdown",
   "metadata": {},
   "source": [
    "###Normalize the Paramaters\n",
    "When I first ran the model without normalized paramaters, I noticed the objective function was negative.  This gave me some intuition that the scale of the parameters was too significantly different to simply multiply them together.  "
   ]
  },
  {
   "cell_type": "code",
   "execution_count": 6,
   "metadata": {
    "collapsed": false
   },
   "outputs": [
    {
     "data": {
      "text/plain": [
       "{('Arizona State', 'Arizona Bowl'): 0.007063625247626339,\n",
       " ('Arizona State', 'Armed Forces Bowl'): 0.09374035702180145,\n",
       " ('California', 'Arizona Bowl'): 0.07445416939468649,\n",
       " ('California', 'Armed Forces Bowl'): 0.16023022886650137,\n",
       " ('Nevada', 'Arizona Bowl'): 0.0849338799274789,\n",
       " ('Nevada', 'Armed Forces Bowl'): 0.16229424507496265,\n",
       " ('Stanford', 'Arizona Bowl'): 0.07363673639198298,\n",
       " ('Stanford', 'Armed Forces Bowl'): 0.15962024044072845,\n",
       " ('UCLA', 'Arizona Bowl'): 0.04850340938142727,\n",
       " ('UCLA', 'Armed Forces Bowl'): 0.1355231082528041}"
      ]
     },
     "execution_count": 6,
     "metadata": {},
     "output_type": "execute_result"
    }
   ],
   "source": [
    "#Normalize the dictionary of distances\n",
    "factor=1.0/sum(a.itervalues())\n",
    "for i,j in a:\n",
    "    a[i,j] = a[i,j]*factor\n",
    "    \n",
    "a"
   ]
  },
  {
   "cell_type": "markdown",
   "metadata": {},
   "source": [
    "###The Pyomo Formulation\n",
    "Now that I have all the data I need, it is time to begin coding the model.  In my experimentation with pyomo and jupyter notebook, I find it very convinient to use concrete models loaded with the data tables/lists/dictionaries I created in the cells above. This simple convention allows me to prototype with small data while testing the results and then to scale up to full datasets by simply changing some input code.\n",
    "\n"
   ]
  },
  {
   "cell_type": "code",
   "execution_count": 8,
   "metadata": {
    "collapsed": false
   },
   "outputs": [],
   "source": [
    "#Create the model object\n",
    "Schedule = ConcreteModel()\n",
    "\n",
    "#Identify our sets of entities\n",
    "Schedule.Schools = Set(initialize=Schools.index.values)\n",
    "Schedule.BowlGames = Set(initialize=BowlGames.index.values)\n",
    "\n",
    "#Identify some parameters\n",
    "Schedule.TravelKMs = Param(Schedule.Schools,Schedule.BowlGames,initialize=a)\n",
    "Schedule.Academics = Param(Schedule.Schools, initialize=Schools.AcademicRank.to_dict())\n",
    "Schedule.StrengthOfSchedule = Param(Schedule.Schools, initialize=Schools.StrengthOfSchedule.to_dict())\n",
    "Schedule.Wins = Param(Schedule.Schools, initialize=Schools.Wins.to_dict())\n",
    "\n",
    "#Set the Binary Decision Variable, which represents whether a school will be invited to a specific bowl Game.\n",
    "Schedule.X = Var(Schedule.Schools, Schedule.BowlGames, within=Binary)\n",
    "\n",
    "#Set the objective function\n",
    "def obj_rule(Schedule):\n",
    "    return sum(Schedule.X[i,j] * Schedule.Academics[i] + \n",
    "               Schedule.X[i,j] * Schedule.StrengthOfSchedule[i] -\n",
    "               Schedule.X[i,j] * Schedule.TravelKMs[i,j]\n",
    "               for i in Schedule.Schools for j in Schedule.BowlGames)\n",
    "\n",
    "Schedule.obj = Objective(rule=obj_rule, sense=maximize)\n",
    "\n",
    "#Set a constraint that each game gets exactly two schools\n",
    "def TwoTeams_rule(Schedule, j):\n",
    "    return sum(Schedule.X[i,j] for i in Schedule.Schools) == 2\n",
    "Schedule.TwoTeams = Constraint(Schedule.BowlGames, rule=TwoTeams_rule)\n",
    "\n",
    "#Set a constraint that each team gets at most 1 bowl game\n",
    "def OneGame_rule(Schedule, i):\n",
    "    return sum(Schedule.X[i,j] for j in Schedule.BowlGames) <= 1\n",
    "Schedule.OneGame = Constraint(Schedule.Schools, rule=OneGame_rule)\n",
    "\n",
    "#Create the model instance\n",
    "instance = Schedule.create()\n",
    "\n",
    "# create a connection to some solver\n",
    "gurobi = opt.SolverFactory('gurobi')\n",
    "\n",
    "#Solve the model \n",
    "results = gurobi.solve(instance)\n",
    "\n",
    "instance.load(results);"
   ]
  },
  {
   "cell_type": "markdown",
   "metadata": {},
   "source": [
    "###Bowl Game Matches"
   ]
  },
  {
   "cell_type": "code",
   "execution_count": 9,
   "metadata": {
    "collapsed": false
   },
   "outputs": [
    {
     "name": "stdout",
     "output_type": "stream",
     "text": [
      "X[Nevada,Armed Forces Bowl] 1.0\n",
      "X[UCLA,Arizona Bowl] 1.0\n",
      "X[Arizona State,Arizona Bowl] 1.0\n",
      "X[Stanford,Armed Forces Bowl] 1.0\n"
     ]
    }
   ],
   "source": [
    "#loop over all the X variables and print out the X's with value == 1\n",
    "for index in instance.X:\n",
    "    if instance.X[index].value == 1:\n",
    "        print instance.X[index], instance.X[index].value"
   ]
  },
  {
   "cell_type": "markdown",
   "metadata": {},
   "source": [
    "###Solver Results"
   ]
  },
  {
   "cell_type": "code",
   "execution_count": 10,
   "metadata": {
    "collapsed": false
   },
   "outputs": [
    {
     "name": "stdout",
     "output_type": "stream",
     "text": [
      "\n",
      "Name: \n",
      "Lower bound: 3879.32251848\n",
      "Upper bound: 3879.32251848\n",
      "Number of objectives: 1\n",
      "Number of constraints: 8\n",
      "Number of variables: 11\n",
      "Number of binary variables: 10\n",
      "Number of integer variables: 10\n",
      "Number of continuous variables: 1\n",
      "Number of nonzeros: 21\n",
      "Sense: maximize\n",
      "\n"
     ]
    }
   ],
   "source": [
    "for i in results.Problem:\n",
    "    print i"
   ]
  },
  {
   "cell_type": "markdown",
   "metadata": {},
   "source": [
    "###Parameters Used"
   ]
  },
  {
   "cell_type": "code",
   "execution_count": 11,
   "metadata": {
    "collapsed": false
   },
   "outputs": [
    {
     "name": "stdout",
     "output_type": "stream",
     "text": [
      "Parameter TravelKMs\n",
      "    ('Nevada', 'Arizona Bowl') 0.0849338799275\n",
      "    ('Arizona State', 'Armed Forces Bowl') 0.0937403570218\n",
      "    ('Stanford', 'Arizona Bowl') 0.073636736392\n",
      "    ('California', 'Arizona Bowl') 0.0744541693947\n",
      "    ('UCLA', 'Armed Forces Bowl') 0.135523108253\n",
      "    ('California', 'Armed Forces Bowl') 0.160230228867\n",
      "    ('Arizona State', 'Arizona Bowl') 0.00706362524763\n",
      "    ('Stanford', 'Armed Forces Bowl') 0.159620240441\n",
      "    ('Nevada', 'Armed Forces Bowl') 0.162294245075\n",
      "    ('UCLA', 'Arizona Bowl') 0.0485034093814\n",
      "Parameter Academics\n",
      "    Nevada 943.0\n",
      "    California 941.0\n",
      "    UCLA 975.0\n",
      "    Arizona State 949.0\n",
      "    Stanford 987.0\n",
      "Parameter StrengthOfSchedule\n",
      "    Nevada 6.7\n",
      "    California 7.8\n",
      "    UCLA 5.7\n",
      "    Arizona State 5.5\n",
      "    Stanford 7.8\n",
      "Parameter Wins\n",
      "    Nevada 6.0\n",
      "    California 8.0\n",
      "    UCLA 9.0\n",
      "    Arizona State 6.0\n",
      "    Stanford 11.0\n"
     ]
    }
   ],
   "source": [
    "for p in instance.active_components(Param):\n",
    "    print \"Parameter\",p\n",
    "    parmobject = getattr(instance, p)\n",
    "    for index in parmobject:\n",
    "        print \"   \",index, parmobject[index]"
   ]
  },
  {
   "cell_type": "markdown",
   "metadata": {},
   "source": [
    "###Improvements\n",
    "The goal of this model was to rapidly prototype a method to automate the scheduling of NCAA Bowl Games.  Now that I have a working analytic pipeline, a couple of key points could be improved.  Namely:\n",
    "\n",
    "- Use web scraping rather than manual data collection.\n",
    "- Put some thought into the objective function.  There is opportunity to match supply and demand by figuring out where teams have major markets and then setting that as part of the objective function.  \n",
    "- Rethink the normalization of parameters.  Im not convinced I am not fully convinced that I am doing the right thing by normalizing.  For example, constraining a normalized parameter seems like a challenge.\n",
    "- Pull out all of the numbers from the model and make them variables.  For that matter, make the user interface cleaner."
   ]
  },
  {
   "cell_type": "markdown",
   "metadata": {},
   "source": [
    "###Literature Review\n",
    "\n",
    "Clark, Andrew G., Susan Cholette, and Ozgur Ozluk. \"UCSF increases consumer value through optimal vendor-show scheduling.\" Interfaces 41.4 (2011): 327-337.\n",
    "\n",
    "Fréchette, Guillaume R., Alvin E. Roth, and M. Utku Ünver. \"Unraveling yields inefficient matchings: evidence from post‐season college football bowls.\" The RAND Journal of Economics 38.4 (2007): 967-982."
   ]
  },
  {
   "cell_type": "markdown",
   "metadata": {},
   "source": [
    "###Model Details"
   ]
  },
  {
   "cell_type": "code",
   "execution_count": 12,
   "metadata": {
    "collapsed": false
   },
   "outputs": [
    {
     "name": "stdout",
     "output_type": "stream",
     "text": [
      "4 Set Declarations\n",
      "    BowlGames : Dim=0, Dimen=1, Size=2, Domain=None, Ordered=False, Bounds=None\n",
      "        ['Arizona Bowl', 'Armed Forces Bowl']\n",
      "    Schools : Dim=0, Dimen=1, Size=5, Domain=None, Ordered=False, Bounds=None\n",
      "        ['Arizona State', 'California', 'Nevada', 'Stanford', 'UCLA']\n",
      "    TravelKMs_index : Dim=0, Dimen=2, Size=10, Domain=None, Ordered=False, Bounds=None\n",
      "        Virtual\n",
      "    X_index : Dim=0, Dimen=2, Size=10, Domain=None, Ordered=False, Bounds=None\n",
      "        Virtual\n",
      "\n",
      "4 Param Declarations\n",
      "    Academics : Size=5, Index=Schools, Domain=Any, Default=None, Mutable=False\n",
      "        Key           : Value\n",
      "        Arizona State : 949.0\n",
      "           California : 941.0\n",
      "               Nevada : 943.0\n",
      "             Stanford : 987.0\n",
      "                 UCLA : 975.0\n",
      "    StrengthOfSchedule : Size=5, Index=Schools, Domain=Any, Default=None, Mutable=False\n",
      "        Key           : Value\n",
      "        Arizona State :   5.5\n",
      "           California :   7.8\n",
      "               Nevada :   6.7\n",
      "             Stanford :   7.8\n",
      "                 UCLA :   5.7\n",
      "    TravelKMs : Size=10, Index=TravelKMs_index, Domain=Any, Default=None, Mutable=False\n",
      "        Key                                    : Value\n",
      "             ('Arizona State', 'Arizona Bowl') : 0.00706362524763\n",
      "        ('Arizona State', 'Armed Forces Bowl') :  0.0937403570218\n",
      "                ('California', 'Arizona Bowl') :  0.0744541693947\n",
      "           ('California', 'Armed Forces Bowl') :   0.160230228867\n",
      "                    ('Nevada', 'Arizona Bowl') :  0.0849338799275\n",
      "               ('Nevada', 'Armed Forces Bowl') :   0.162294245075\n",
      "                  ('Stanford', 'Arizona Bowl') :   0.073636736392\n",
      "             ('Stanford', 'Armed Forces Bowl') :   0.159620240441\n",
      "                      ('UCLA', 'Arizona Bowl') :  0.0485034093814\n",
      "                 ('UCLA', 'Armed Forces Bowl') :   0.135523108253\n",
      "    Wins : Size=5, Index=Schools, Domain=Any, Default=None, Mutable=False\n",
      "        Key           : Value\n",
      "        Arizona State :   6.0\n",
      "           California :   8.0\n",
      "               Nevada :   6.0\n",
      "             Stanford :  11.0\n",
      "                 UCLA :   9.0\n",
      "\n",
      "1 Var Declarations\n",
      "    X : Size=10, Index=X_index, Domain=Binary\n",
      "        Key                                    : Lower : Value : Upper : Initial : Fixed : Stale\n",
      "             ('Arizona State', 'Arizona Bowl') :     0 :   1.0 :     1 :    None : False : False\n",
      "        ('Arizona State', 'Armed Forces Bowl') :     0 :   0.0 :     1 :    None : False : False\n",
      "                ('California', 'Arizona Bowl') :     0 :  -0.0 :     1 :    None : False : False\n",
      "           ('California', 'Armed Forces Bowl') :     0 :  -0.0 :     1 :    None : False : False\n",
      "                    ('Nevada', 'Arizona Bowl') :     0 :  -0.0 :     1 :    None : False : False\n",
      "               ('Nevada', 'Armed Forces Bowl') :     0 :   1.0 :     1 :    None : False : False\n",
      "                  ('Stanford', 'Arizona Bowl') :     0 :   0.0 :     1 :    None : False : False\n",
      "             ('Stanford', 'Armed Forces Bowl') :     0 :   1.0 :     1 :    None : False : False\n",
      "                      ('UCLA', 'Arizona Bowl') :     0 :   1.0 :     1 :    None : False : False\n",
      "                 ('UCLA', 'Armed Forces Bowl') :     0 :   0.0 :     1 :    None : False : False\n",
      "\n",
      "1 Objective Declarations\n",
      "    obj : Size=1, Index=None, Active=True, Sense=maximize\n",
      "        Key  : Active : Expression\n",
      "        None :   True : 943.0*X[Nevada,Arizona Bowl] + 6.7*X[Nevada,Arizona Bowl] - 0.0849338799275*X[Nevada,Arizona Bowl] + 943.0*X[Nevada,Armed Forces Bowl] + 6.7*X[Nevada,Armed Forces Bowl] - 0.162294245075*X[Nevada,Armed Forces Bowl] + 941.0*X[California,Arizona Bowl] + 7.8*X[California,Arizona Bowl] - 0.0744541693947*X[California,Arizona Bowl] + 941.0*X[California,Armed Forces Bowl] + 7.8*X[California,Armed Forces Bowl] - 0.160230228867*X[California,Armed Forces Bowl] + 975.0*X[UCLA,Arizona Bowl] + 5.7*X[UCLA,Arizona Bowl] - 0.0485034093814*X[UCLA,Arizona Bowl] + 975.0*X[UCLA,Armed Forces Bowl] + 5.7*X[UCLA,Armed Forces Bowl] - 0.135523108253*X[UCLA,Armed Forces Bowl] + 949.0*X[Arizona State,Arizona Bowl] + 5.5*X[Arizona State,Arizona Bowl] - 0.00706362524763*X[Arizona State,Arizona Bowl] + 949.0*X[Arizona State,Armed Forces Bowl] + 5.5*X[Arizona State,Armed Forces Bowl] - 0.0937403570218*X[Arizona State,Armed Forces Bowl] + 987.0*X[Stanford,Arizona Bowl] + 7.8*X[Stanford,Arizona Bowl] - 0.073636736392*X[Stanford,Arizona Bowl] + 987.0*X[Stanford,Armed Forces Bowl] + 7.8*X[Stanford,Armed Forces Bowl] - 0.159620240441*X[Stanford,Armed Forces Bowl]\n",
      "\n",
      "2 Constraint Declarations\n",
      "    OneGame : Size=5, Index=Schools, Active=True\n",
      "        Key           : Lower : Body                                                               : Upper : Active\n",
      "        Arizona State :  -Inf : X[Arizona State,Arizona Bowl] + X[Arizona State,Armed Forces Bowl] :   1.0 :   True\n",
      "           California :  -Inf :       X[California,Arizona Bowl] + X[California,Armed Forces Bowl] :   1.0 :   True\n",
      "               Nevada :  -Inf :               X[Nevada,Arizona Bowl] + X[Nevada,Armed Forces Bowl] :   1.0 :   True\n",
      "             Stanford :  -Inf :           X[Stanford,Arizona Bowl] + X[Stanford,Armed Forces Bowl] :   1.0 :   True\n",
      "                 UCLA :  -Inf :                   X[UCLA,Arizona Bowl] + X[UCLA,Armed Forces Bowl] :   1.0 :   True\n",
      "    TwoTeams : Size=2, Index=BowlGames, Active=True\n",
      "        Key               : Lower : Body                                                                                                                                                           : Upper : Active\n",
      "             Arizona Bowl :   2.0 :                          X[Nevada,Arizona Bowl] + X[California,Arizona Bowl] + X[UCLA,Arizona Bowl] + X[Arizona State,Arizona Bowl] + X[Stanford,Arizona Bowl] :   2.0 :   True\n",
      "        Armed Forces Bowl :   2.0 : X[Nevada,Armed Forces Bowl] + X[California,Armed Forces Bowl] + X[UCLA,Armed Forces Bowl] + X[Arizona State,Armed Forces Bowl] + X[Stanford,Armed Forces Bowl] :   2.0 :   True\n",
      "\n",
      "1 Suffix Declarations\n",
      "    canonical_repn : Direction=Suffix.LOCAL, Datatype=None\n",
      "        Key                         : Value\n",
      "             OneGame[Arizona State] : LinearCanonical{ 1*X[Arizona State,Arizona Bowl] + 1*X[Arizona State,Armed Forces Bowl] }\n",
      "                OneGame[California] : LinearCanonical{ 1*X[California,Arizona Bowl] + 1*X[California,Armed Forces Bowl] }\n",
      "                    OneGame[Nevada] : LinearCanonical{ 1*X[Nevada,Arizona Bowl] + 1*X[Nevada,Armed Forces Bowl] }\n",
      "                  OneGame[Stanford] : LinearCanonical{ 1*X[Stanford,Arizona Bowl] + 1*X[Stanford,Armed Forces Bowl] }\n",
      "                      OneGame[UCLA] : LinearCanonical{ 1*X[UCLA,Arizona Bowl] + 1*X[UCLA,Armed Forces Bowl] }\n",
      "             TwoTeams[Arizona Bowl] : LinearCanonical{ 1*X[Arizona State,Arizona Bowl] + 1*X[California,Arizona Bowl] + 1*X[Nevada,Arizona Bowl] + 1*X[Stanford,Arizona Bowl] + 1*X[UCLA,Arizona Bowl] }\n",
      "        TwoTeams[Armed Forces Bowl] : LinearCanonical{ 1*X[Arizona State,Armed Forces Bowl] + 1*X[California,Armed Forces Bowl] + 1*X[Nevada,Armed Forces Bowl] + 1*X[Stanford,Armed Forces Bowl] + 1*X[UCLA,Armed Forces Bowl] }\n",
      "                                obj : LinearCanonical{ 954.492936375*X[Arizona State,Arizona Bowl] + 954.406259643*X[Arizona State,Armed Forces Bowl] + 948.725545831*X[California,Arizona Bowl] + 948.639769771*X[California,Armed Forces Bowl] + 949.61506612*X[Nevada,Arizona Bowl] + 949.537705755*X[Nevada,Armed Forces Bowl] + 994.726363264*X[Stanford,Arizona Bowl] + 994.64037976*X[Stanford,Armed Forces Bowl] + 980.651496591*X[UCLA,Arizona Bowl] + 980.564476892*X[UCLA,Armed Forces Bowl] }\n",
      "\n",
      "13 Declarations: Schools BowlGames TravelKMs_index TravelKMs Academics StrengthOfSchedule Wins X_index X obj TwoTeams OneGame canonical_repn\n"
     ]
    }
   ],
   "source": [
    "Schedule.pprint()"
   ]
  }
 ],
 "metadata": {
  "kernelspec": {
   "display_name": "Python 2",
   "language": "python",
   "name": "python2"
  },
  "language_info": {
   "codemirror_mode": {
    "name": "ipython",
    "version": 2
   },
   "file_extension": ".py",
   "mimetype": "text/x-python",
   "name": "python",
   "nbconvert_exporter": "python",
   "pygments_lexer": "ipython2",
   "version": "2.7.6"
  }
 },
 "nbformat": 4,
 "nbformat_minor": 0
}
